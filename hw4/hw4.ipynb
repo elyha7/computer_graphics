{
  "nbformat": 4,
  "nbformat_minor": 0,
  "metadata": {
    "colab": {
      "name": "hw4.ipynb",
      "version": "0.3.2",
      "views": {},
      "default_view": {},
      "provenance": [],
      "collapsed_sections": []
    }
  },
  "cells": [
    {
      "metadata": {
        "id": "9ZEgpCxLFdYG",
        "colab_type": "code",
        "colab": {
          "autoexec": {
            "startup": false,
            "wait_interval": 0
          }
        }
      },
      "source": [
        "%matplotlib inline\n",
        "import matplotlib.pyplot as plt\n",
        "from PIL import Image\n",
        "import numpy as np\n",
        "import scipy.stats as st\n",
        "from math import pi,exp\n",
        "from scipy.ndimage.filters import generic_filter as gf\n",
        "from scipy.ndimage import binary_dilation,binary_erosion"
      ],
      "cell_type": "code",
      "execution_count": 0,
      "outputs": []
    },
    {
      "metadata": {
        "id": "Ttx3y7kGFiAV",
        "colab_type": "code",
        "colab": {
          "autoexec": {
            "startup": false,
            "wait_interval": 0
          }
        }
      },
      "source": [
        "def AddBorders(img,filter_size):\n",
        "    border_size=(filter_size-1)/2\n",
        "    temp=np.zeros((img.shape[0]+2*(border_size),img.shape[1]+2*(border_size)))\n",
        "    temp[border_size:-border_size,border_size:-border_size]=img\n",
        "    return temp\n",
        "def round_kern(size):\n",
        "    radius=size/2+1\n",
        "    kernel = np.zeros((radius/2+1, radius/2+1))\n",
        "    y,x = np.ogrid[-radius+1:radius, -radius+1:radius]\n",
        "    mask = x**2 + y**2 <= radius**2\n",
        "    return mask.astype(int)\n",
        "def morphology(img,kern_size,mode='dilation'):\n",
        "    width=img.shape[1]\n",
        "    height=img.shape[0]\n",
        "    border=kern_size/2\n",
        "    img=AddBorders(img,kern_size)\n",
        "    new_img=np.zeros((height+border*2,width+border*2))\n",
        "    #print(new_img.shape,img.shape)\n",
        "    kernel=round_kern(kern_size)\n",
        "    if mode=='dilation':\n",
        "        for i in range(0,height):\n",
        "            for j in range(0,width):\n",
        "                if img[i+kern_size/2][j+kern_size/2]==1:\n",
        "                    #print(i+kern_size/2,j+kern_size/2)\n",
        "                    new_img[i:i+kern_size,j:j+kern_size]=\\\n",
        "                    np.logical_or(new_img[i:i+kern_size,j:j+kern_size],kernel).astype(int)\n",
        "                    #new_img[i:i+kern_size,j:j+kern_size]=kernel#np.ones((kern_size,kern_size))\n",
        "    if mode=='erosion':\n",
        "        kernel_sum=kernel.sum()\n",
        "        print(kernel_sum)\n",
        "        for i in range(0,height-1):\n",
        "            for j in range(0,width-1):\n",
        "                if (img[i:i+kern_size,j:j+kern_size]*kernel).sum()==kernel_sum:\n",
        "                    #print(i,j)\n",
        "                    new_img[i+kern_size/2][j+kern_size/2]=1\n",
        "    return new_img[border:-border,border:-border]"
      ],
      "cell_type": "code",
      "execution_count": 0,
      "outputs": []
    },
    {
      "metadata": {
        "id": "PWcltdDoFryM",
        "colab_type": "code",
        "colab": {
          "autoexec": {
            "startup": false,
            "wait_interval": 0
          }
        }
      },
      "source": [
        "a=np.zeros((200,200))\n",
        "a[40:140,30:60]=np.ones_like(a[40:140,30:60])\n",
        "a[70:110,60:90]=np.ones_like(a[70:110,60:90])\n",
        "a[40:140,90:130]=np.ones_like(a[40:140,90:130])"
      ],
      "cell_type": "code",
      "execution_count": 0,
      "outputs": []
    },
    {
      "metadata": {
        "id": "pnOM-AzVFwAo",
        "colab_type": "code",
        "colab": {
          "autoexec": {
            "startup": false,
            "wait_interval": 0
          }
        }
      },
      "source": [
        "r=21\n",
        "r1=r/2\n",
        "my_result=morphology(a,r,mode='dilation')\n",
        "lib_result=binary_dilation(a,structure=round_kern(r))"
      ],
      "cell_type": "code",
      "execution_count": 0,
      "outputs": []
    },
    {
      "metadata": {
        "id": "1rW_uE37GrOA",
        "colab_type": "code",
        "colab": {
          "autoexec": {
            "startup": false,
            "wait_interval": 0
          },
          "output_extras": [
            {
              "item_id": 1
            },
            {
              "item_id": 2
            }
          ],
          "base_uri": "https://localhost:8080/",
          "height": 286
        },
        "outputId": "d86034dd-9ccb-4180-b085-9a4171d3f16c",
        "executionInfo": {
          "status": "ok",
          "timestamp": 1509280163706,
          "user_tz": -180,
          "elapsed": 588,
          "user": {
            "displayName": "Артем Ребриков",
            "photoUrl": "https://lh3.googleusercontent.com/a/default-user=s128",
            "userId": "109403857899494113201"
          }
        }
      },
      "source": [
        "plt.imshow(lib_result,interpolation='none')"
      ],
      "cell_type": "code",
      "execution_count": 12,
      "outputs": [
        {
          "output_type": "execute_result",
          "data": {
            "text/plain": [
              "<matplotlib.image.AxesImage at 0x7f83a5c5b6d0>"
            ]
          },
          "metadata": {
            "tags": []
          },
          "execution_count": 12
        },
        {
          "output_type": "display_data",
          "data": {
            "image/png": "[encoded data removed]",
            "text/plain": [
              "<matplotlib.figure.Figure at 0x7f83ac068a90>"
            ]
          },
          "metadata": {
            "tags": []
          }
        }
      ]
    },
    {
      "metadata": {
        "id": "uXNZqA1MG2dC",
        "colab_type": "code",
        "colab": {
          "autoexec": {
            "startup": false,
            "wait_interval": 0
          },
          "output_extras": [
            {
              "item_id": 1
            },
            {
              "item_id": 2
            }
          ],
          "base_uri": "https://localhost:8080/",
          "height": 286
        },
        "outputId": "d8670f1c-511a-4de7-ba9a-e74e9dad63bd",
        "executionInfo": {
          "status": "ok",
          "timestamp": 1509280180760,
          "user_tz": -180,
          "elapsed": 704,
          "user": {
            "displayName": "Артем Ребриков",
            "photoUrl": "https://lh3.googleusercontent.com/a/default-user=s128",
            "userId": "109403857899494113201"
          }
        }
      },
      "source": [
        "plt.imshow(my_result,interpolation='none')"
      ],
      "cell_type": "code",
      "execution_count": 13,
      "outputs": [
        {
          "output_type": "execute_result",
          "data": {
            "text/plain": [
              "<matplotlib.image.AxesImage at 0x7f83a5c18d90>"
            ]
          },
          "metadata": {
            "tags": []
          },
          "execution_count": 13
        },
        {
          "output_type": "display_data",
          "data": {
            "image/png": "[encoded data removed]",
            "text/plain": [
              "<matplotlib.figure.Figure at 0x7f83a5bbf450>"
            ]
          },
          "metadata": {
            "tags": []
          }
        }
      ]
    },
    {
      "metadata": {
        "id": "9C9n4DIJG-by",
        "colab_type": "code",
        "colab": {
          "autoexec": {
            "startup": false,
            "wait_interval": 0
          }
        }
      },
      "source": [
        ""
      ],
      "cell_type": "code",
      "execution_count": 0,
      "outputs": []
    }
  ]
}